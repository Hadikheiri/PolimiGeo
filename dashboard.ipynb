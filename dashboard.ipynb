{
 "cells": [
  {
   "cell_type": "code",
   "execution_count": null,
   "metadata": {},
   "outputs": [
    {
     "data": {
      "application/vnd.jupyter.widget-view+json": {
       "model_id": "06f34bfb0b5c4f28adb00497bd8b08e6",
       "version_major": 2,
       "version_minor": 0
      },
      "text/plain": [
       "VBox(children=(Label(value='User Dashboard: You can view the dashboard here.'), Button(description='View Dashb…"
      ]
     },
     "metadata": {},
     "output_type": "display_data"
    },
    {
     "data": {
      "application/vnd.jupyter.widget-view+json": {
       "model_id": "2a84748de0364bc8ba4f936a13938084",
       "version_major": 2,
       "version_minor": 0
      },
      "text/plain": [
       "Dropdown(description='Level:', options=('province', 'region', 'municipality'), value='province')"
      ]
     },
     "metadata": {},
     "output_type": "display_data"
    },
    {
     "data": {
      "application/vnd.jupyter.widget-view+json": {
       "model_id": "8afd5495a5e54660b9050f535872dcf8",
       "version_major": 2,
       "version_minor": 0
      },
      "text/plain": [
       "Dropdown(description='Specific:', options=(), value=None)"
      ]
     },
     "metadata": {},
     "output_type": "display_data"
    },
    {
     "data": {
      "application/vnd.jupyter.widget-view+json": {
       "model_id": "53ae304e02624ca5b577bf07c0b3cc7d",
       "version_major": 2,
       "version_minor": 0
      },
      "text/plain": [
       "Dropdown(description='Format:', options=('xlsx', 'csv'), value='xlsx')"
      ]
     },
     "metadata": {},
     "output_type": "display_data"
    },
    {
     "data": {
      "application/vnd.jupyter.widget-view+json": {
       "model_id": "0b2fd11a024c49bd9229f093eeb1e4c7",
       "version_major": 2,
       "version_minor": 0
      },
      "text/plain": [
       "Button(description='Generate Report', style=ButtonStyle())"
      ]
     },
     "metadata": {},
     "output_type": "display_data"
    },
    {
     "data": {
      "application/vnd.jupyter.widget-view+json": {
       "model_id": "9f7effbabb9c4be6909d0cdf28d0449e",
       "version_major": 2,
       "version_minor": 0
      },
      "text/plain": [
       "Output()"
      ]
     },
     "metadata": {},
     "output_type": "display_data"
    },
    {
     "data": {
      "application/vnd.jupyter.widget-view+json": {
       "model_id": "3aa6378c2a83465c95a64233a455b00f",
       "version_major": 2,
       "version_minor": 0
      },
      "text/plain": [
       "Output()"
      ]
     },
     "metadata": {},
     "output_type": "display_data"
    },
    {
     "data": {
      "application/vnd.jupyter.widget-view+json": {
       "model_id": "63f98970a9e5478d9808287cd8f4634d",
       "version_major": 2,
       "version_minor": 0
      },
      "text/plain": [
       "Output()"
      ]
     },
     "metadata": {},
     "output_type": "display_data"
    },
    {
     "data": {
      "application/vnd.plotly.v1+json": {
       "config": {
        "plotlyServerURL": "https://plot.ly"
       },
       "data": [
        {
         "domain": {
          "x": [
           0,
           1
          ],
          "y": [
           0,
           1
          ]
         },
         "hovertemplate": "label=%{label}<br>value=%{value}<extra></extra>",
         "labels": [
          "No Risk",
          "Low",
          "Medium",
          "High"
         ],
         "legendgroup": "",
         "name": "",
         "showlegend": true,
         "type": "pie",
         "values": [
          3942453,
          699621,
          213655,
          64503
         ]
        }
       ],
       "layout": {
        "legend": {
         "tracegroupgap": 0
        },
        "piecolorway": [
         "rgb(5,48,97)",
         "rgb(33,102,172)",
         "rgb(67,147,195)",
         "rgb(146,197,222)",
         "rgb(209,229,240)",
         "rgb(247,247,247)",
         "rgb(253,219,199)",
         "rgb(244,165,130)",
         "rgb(214,96,77)",
         "rgb(178,24,43)",
         "rgb(103,0,31)"
        ],
        "template": {
         "data": {
          "bar": [
           {
            "error_x": {
             "color": "#2a3f5f"
            },
            "error_y": {
             "color": "#2a3f5f"
            },
            "marker": {
             "line": {
              "color": "#E5ECF6",
              "width": 0.5
             },
             "pattern": {
              "fillmode": "overlay",
              "size": 10,
              "solidity": 0.2
             }
            },
            "type": "bar"
           }
          ],
          "barpolar": [
           {
            "marker": {
             "line": {
              "color": "#E5ECF6",
              "width": 0.5
             },
             "pattern": {
              "fillmode": "overlay",
              "size": 10,
              "solidity": 0.2
             }
            },
            "type": "barpolar"
           }
          ],
          "carpet": [
           {
            "aaxis": {
             "endlinecolor": "#2a3f5f",
             "gridcolor": "white",
             "linecolor": "white",
             "minorgridcolor": "white",
             "startlinecolor": "#2a3f5f"
            },
            "baxis": {
             "endlinecolor": "#2a3f5f",
             "gridcolor": "white",
             "linecolor": "white",
             "minorgridcolor": "white",
             "startlinecolor": "#2a3f5f"
            },
            "type": "carpet"
           }
          ],
          "choropleth": [
           {
            "colorbar": {
             "outlinewidth": 0,
             "ticks": ""
            },
            "type": "choropleth"
           }
          ],
          "contour": [
           {
            "colorbar": {
             "outlinewidth": 0,
             "ticks": ""
            },
            "colorscale": [
             [
              0,
              "#0d0887"
             ],
             [
              0.1111111111111111,
              "#46039f"
             ],
             [
              0.2222222222222222,
              "#7201a8"
             ],
             [
              0.3333333333333333,
              "#9c179e"
             ],
             [
              0.4444444444444444,
              "#bd3786"
             ],
             [
              0.5555555555555556,
              "#d8576b"
             ],
             [
              0.6666666666666666,
              "#ed7953"
             ],
             [
              0.7777777777777778,
              "#fb9f3a"
             ],
             [
              0.8888888888888888,
              "#fdca26"
             ],
             [
              1,
              "#f0f921"
             ]
            ],
            "type": "contour"
           }
          ],
          "contourcarpet": [
           {
            "colorbar": {
             "outlinewidth": 0,
             "ticks": ""
            },
            "type": "contourcarpet"
           }
          ],
          "heatmap": [
           {
            "colorbar": {
             "outlinewidth": 0,
             "ticks": ""
            },
            "colorscale": [
             [
              0,
              "#0d0887"
             ],
             [
              0.1111111111111111,
              "#46039f"
             ],
             [
              0.2222222222222222,
              "#7201a8"
             ],
             [
              0.3333333333333333,
              "#9c179e"
             ],
             [
              0.4444444444444444,
              "#bd3786"
             ],
             [
              0.5555555555555556,
              "#d8576b"
             ],
             [
              0.6666666666666666,
              "#ed7953"
             ],
             [
              0.7777777777777778,
              "#fb9f3a"
             ],
             [
              0.8888888888888888,
              "#fdca26"
             ],
             [
              1,
              "#f0f921"
             ]
            ],
            "type": "heatmap"
           }
          ],
          "heatmapgl": [
           {
            "colorbar": {
             "outlinewidth": 0,
             "ticks": ""
            },
            "colorscale": [
             [
              0,
              "#0d0887"
             ],
             [
              0.1111111111111111,
              "#46039f"
             ],
             [
              0.2222222222222222,
              "#7201a8"
             ],
             [
              0.3333333333333333,
              "#9c179e"
             ],
             [
              0.4444444444444444,
              "#bd3786"
             ],
             [
              0.5555555555555556,
              "#d8576b"
             ],
             [
              0.6666666666666666,
              "#ed7953"
             ],
             [
              0.7777777777777778,
              "#fb9f3a"
             ],
             [
              0.8888888888888888,
              "#fdca26"
             ],
             [
              1,
              "#f0f921"
             ]
            ],
            "type": "heatmapgl"
           }
          ],
          "histogram": [
           {
            "marker": {
             "pattern": {
              "fillmode": "overlay",
              "size": 10,
              "solidity": 0.2
             }
            },
            "type": "histogram"
           }
          ],
          "histogram2d": [
           {
            "colorbar": {
             "outlinewidth": 0,
             "ticks": ""
            },
            "colorscale": [
             [
              0,
              "#0d0887"
             ],
             [
              0.1111111111111111,
              "#46039f"
             ],
             [
              0.2222222222222222,
              "#7201a8"
             ],
             [
              0.3333333333333333,
              "#9c179e"
             ],
             [
              0.4444444444444444,
              "#bd3786"
             ],
             [
              0.5555555555555556,
              "#d8576b"
             ],
             [
              0.6666666666666666,
              "#ed7953"
             ],
             [
              0.7777777777777778,
              "#fb9f3a"
             ],
             [
              0.8888888888888888,
              "#fdca26"
             ],
             [
              1,
              "#f0f921"
             ]
            ],
            "type": "histogram2d"
           }
          ],
          "histogram2dcontour": [
           {
            "colorbar": {
             "outlinewidth": 0,
             "ticks": ""
            },
            "colorscale": [
             [
              0,
              "#0d0887"
             ],
             [
              0.1111111111111111,
              "#46039f"
             ],
             [
              0.2222222222222222,
              "#7201a8"
             ],
             [
              0.3333333333333333,
              "#9c179e"
             ],
             [
              0.4444444444444444,
              "#bd3786"
             ],
             [
              0.5555555555555556,
              "#d8576b"
             ],
             [
              0.6666666666666666,
              "#ed7953"
             ],
             [
              0.7777777777777778,
              "#fb9f3a"
             ],
             [
              0.8888888888888888,
              "#fdca26"
             ],
             [
              1,
              "#f0f921"
             ]
            ],
            "type": "histogram2dcontour"
           }
          ],
          "mesh3d": [
           {
            "colorbar": {
             "outlinewidth": 0,
             "ticks": ""
            },
            "type": "mesh3d"
           }
          ],
          "parcoords": [
           {
            "line": {
             "colorbar": {
              "outlinewidth": 0,
              "ticks": ""
             }
            },
            "type": "parcoords"
           }
          ],
          "pie": [
           {
            "automargin": true,
            "type": "pie"
           }
          ],
          "scatter": [
           {
            "fillpattern": {
             "fillmode": "overlay",
             "size": 10,
             "solidity": 0.2
            },
            "type": "scatter"
           }
          ],
          "scatter3d": [
           {
            "line": {
             "colorbar": {
              "outlinewidth": 0,
              "ticks": ""
             }
            },
            "marker": {
             "colorbar": {
              "outlinewidth": 0,
              "ticks": ""
             }
            },
            "type": "scatter3d"
           }
          ],
          "scattercarpet": [
           {
            "marker": {
             "colorbar": {
              "outlinewidth": 0,
              "ticks": ""
             }
            },
            "type": "scattercarpet"
           }
          ],
          "scattergeo": [
           {
            "marker": {
             "colorbar": {
              "outlinewidth": 0,
              "ticks": ""
             }
            },
            "type": "scattergeo"
           }
          ],
          "scattergl": [
           {
            "marker": {
             "colorbar": {
              "outlinewidth": 0,
              "ticks": ""
             }
            },
            "type": "scattergl"
           }
          ],
          "scattermapbox": [
           {
            "marker": {
             "colorbar": {
              "outlinewidth": 0,
              "ticks": ""
             }
            },
            "type": "scattermapbox"
           }
          ],
          "scatterpolar": [
           {
            "marker": {
             "colorbar": {
              "outlinewidth": 0,
              "ticks": ""
             }
            },
            "type": "scatterpolar"
           }
          ],
          "scatterpolargl": [
           {
            "marker": {
             "colorbar": {
              "outlinewidth": 0,
              "ticks": ""
             }
            },
            "type": "scatterpolargl"
           }
          ],
          "scatterternary": [
           {
            "marker": {
             "colorbar": {
              "outlinewidth": 0,
              "ticks": ""
             }
            },
            "type": "scatterternary"
           }
          ],
          "surface": [
           {
            "colorbar": {
             "outlinewidth": 0,
             "ticks": ""
            },
            "colorscale": [
             [
              0,
              "#0d0887"
             ],
             [
              0.1111111111111111,
              "#46039f"
             ],
             [
              0.2222222222222222,
              "#7201a8"
             ],
             [
              0.3333333333333333,
              "#9c179e"
             ],
             [
              0.4444444444444444,
              "#bd3786"
             ],
             [
              0.5555555555555556,
              "#d8576b"
             ],
             [
              0.6666666666666666,
              "#ed7953"
             ],
             [
              0.7777777777777778,
              "#fb9f3a"
             ],
             [
              0.8888888888888888,
              "#fdca26"
             ],
             [
              1,
              "#f0f921"
             ]
            ],
            "type": "surface"
           }
          ],
          "table": [
           {
            "cells": {
             "fill": {
              "color": "#EBF0F8"
             },
             "line": {
              "color": "white"
             }
            },
            "header": {
             "fill": {
              "color": "#C8D4E3"
             },
             "line": {
              "color": "white"
             }
            },
            "type": "table"
           }
          ]
         },
         "layout": {
          "annotationdefaults": {
           "arrowcolor": "#2a3f5f",
           "arrowhead": 0,
           "arrowwidth": 1
          },
          "autotypenumbers": "strict",
          "coloraxis": {
           "colorbar": {
            "outlinewidth": 0,
            "ticks": ""
           }
          },
          "colorscale": {
           "diverging": [
            [
             0,
             "#8e0152"
            ],
            [
             0.1,
             "#c51b7d"
            ],
            [
             0.2,
             "#de77ae"
            ],
            [
             0.3,
             "#f1b6da"
            ],
            [
             0.4,
             "#fde0ef"
            ],
            [
             0.5,
             "#f7f7f7"
            ],
            [
             0.6,
             "#e6f5d0"
            ],
            [
             0.7,
             "#b8e186"
            ],
            [
             0.8,
             "#7fbc41"
            ],
            [
             0.9,
             "#4d9221"
            ],
            [
             1,
             "#276419"
            ]
           ],
           "sequential": [
            [
             0,
             "#0d0887"
            ],
            [
             0.1111111111111111,
             "#46039f"
            ],
            [
             0.2222222222222222,
             "#7201a8"
            ],
            [
             0.3333333333333333,
             "#9c179e"
            ],
            [
             0.4444444444444444,
             "#bd3786"
            ],
            [
             0.5555555555555556,
             "#d8576b"
            ],
            [
             0.6666666666666666,
             "#ed7953"
            ],
            [
             0.7777777777777778,
             "#fb9f3a"
            ],
            [
             0.8888888888888888,
             "#fdca26"
            ],
            [
             1,
             "#f0f921"
            ]
           ],
           "sequentialminus": [
            [
             0,
             "#0d0887"
            ],
            [
             0.1111111111111111,
             "#46039f"
            ],
            [
             0.2222222222222222,
             "#7201a8"
            ],
            [
             0.3333333333333333,
             "#9c179e"
            ],
            [
             0.4444444444444444,
             "#bd3786"
            ],
            [
             0.5555555555555556,
             "#d8576b"
            ],
            [
             0.6666666666666666,
             "#ed7953"
            ],
            [
             0.7777777777777778,
             "#fb9f3a"
            ],
            [
             0.8888888888888888,
             "#fdca26"
            ],
            [
             1,
             "#f0f921"
            ]
           ]
          },
          "colorway": [
           "#636efa",
           "#EF553B",
           "#00cc96",
           "#ab63fa",
           "#FFA15A",
           "#19d3f3",
           "#FF6692",
           "#B6E880",
           "#FF97FF",
           "#FECB52"
          ],
          "font": {
           "color": "#2a3f5f"
          },
          "geo": {
           "bgcolor": "white",
           "lakecolor": "white",
           "landcolor": "#E5ECF6",
           "showlakes": true,
           "showland": true,
           "subunitcolor": "white"
          },
          "hoverlabel": {
           "align": "left"
          },
          "hovermode": "closest",
          "mapbox": {
           "style": "light"
          },
          "paper_bgcolor": "white",
          "plot_bgcolor": "#E5ECF6",
          "polar": {
           "angularaxis": {
            "gridcolor": "white",
            "linecolor": "white",
            "ticks": ""
           },
           "bgcolor": "#E5ECF6",
           "radialaxis": {
            "gridcolor": "white",
            "linecolor": "white",
            "ticks": ""
           }
          },
          "scene": {
           "xaxis": {
            "backgroundcolor": "#E5ECF6",
            "gridcolor": "white",
            "gridwidth": 2,
            "linecolor": "white",
            "showbackground": true,
            "ticks": "",
            "zerolinecolor": "white"
           },
           "yaxis": {
            "backgroundcolor": "#E5ECF6",
            "gridcolor": "white",
            "gridwidth": 2,
            "linecolor": "white",
            "showbackground": true,
            "ticks": "",
            "zerolinecolor": "white"
           },
           "zaxis": {
            "backgroundcolor": "#E5ECF6",
            "gridcolor": "white",
            "gridwidth": 2,
            "linecolor": "white",
            "showbackground": true,
            "ticks": "",
            "zerolinecolor": "white"
           }
          },
          "shapedefaults": {
           "line": {
            "color": "#2a3f5f"
           }
          },
          "ternary": {
           "aaxis": {
            "gridcolor": "white",
            "linecolor": "white",
            "ticks": ""
           },
           "baxis": {
            "gridcolor": "white",
            "linecolor": "white",
            "ticks": ""
           },
           "bgcolor": "#E5ECF6",
           "caxis": {
            "gridcolor": "white",
            "linecolor": "white",
            "ticks": ""
           }
          },
          "title": {
           "x": 0.05
          },
          "xaxis": {
           "automargin": true,
           "gridcolor": "white",
           "linecolor": "white",
           "ticks": "",
           "title": {
            "standoff": 15
           },
           "zerolinecolor": "white",
           "zerolinewidth": 2
          },
          "yaxis": {
           "automargin": true,
           "gridcolor": "white",
           "linecolor": "white",
           "ticks": "",
           "title": {
            "standoff": 15
           },
           "zerolinecolor": "white",
           "zerolinewidth": 2
          }
         }
        },
        "title": {
         "text": "Population Distribution at Different Flood Risk Levels in the region of Piemonte"
        }
       }
      }
     },
     "metadata": {},
     "output_type": "display_data"
    },
    {
     "name": "stdout",
     "output_type": "stream",
     "text": [
      "The total population in Piemonte is 4363916. \n",
      "\n",
      "Out of this, 64503 people are at high flood risk, 213655 people are at medium flood risk, and 699621 people are at low flood risk.\n",
      "\n",
      "In terms of buildings, there are a total of 1135209 buildings in Piemonte.\n",
      "\n",
      " Out of these, 24110 buildings are at high flood risk, 66330 buildings are at medium flood risk, and 180351 buildings are at low flood risk.\n"
     ]
    }
   ],
   "source": [
    "import ipywidgets as widgets\n",
    "from IPython.display import display, clear_output, FileLink\n",
    "from functions import (\n",
    "    create_users_table, signup_user, login_user, create_map, generate_report, fetch_data,add_admin_user,create_population_buildings_risk_plot,fetch_and_insert_data\n",
    ")\n",
    "\n",
    "import pandas as pd\n",
    "# Initialize database and create users table and admin user inserted\n",
    "create_users_table()\n",
    "add_admin_user()\n",
    "\n",
    "# Output widget\n",
    "output = widgets.Output()\n",
    "\n",
    "# Login form\n",
    "login_username = widgets.Text(description=\"Username:\")\n",
    "login_password = widgets.Password(description=\"Password:\")\n",
    "login_button = widgets.Button(description=\"Login\")\n",
    "login_message = widgets.Label()\n",
    "\n",
    "# Sign-up form\n",
    "signup_username = widgets.Text(description=\"Username:\")\n",
    "signup_password = widgets.Password(description=\"Password:\")\n",
    "signup_button = widgets.Button(description=\"Sign Up\")\n",
    "signup_message = widgets.Label()\n",
    "\n",
    "def handle_signup(event):\n",
    "    result = signup_user(signup_username.value, signup_password.value)\n",
    "    signup_message.value = result\n",
    "    if result == \"User signed up successfully!\":\n",
    "        role = login_user(signup_username.value, signup_password.value)\n",
    "        if role:\n",
    "            clear_output()\n",
    "            display_dashboard(role)\n",
    "        else:\n",
    "            signup_message.value = \"Error in automatic login after signup!\"\n",
    "\n",
    "signup_button.on_click(handle_signup)\n",
    "signup_form = widgets.VBox([signup_username, signup_password, signup_button, signup_message])\n",
    "\n",
    "def handle_login(event):\n",
    "    role = login_user(login_username.value, login_password.value)\n",
    "    if role:\n",
    "        clear_output()\n",
    "        display_dashboard(role)\n",
    "    else:\n",
    "        login_message.value = \"Invalid username or password!\"\n",
    "\n",
    "login_button.on_click(handle_login)\n",
    "\n",
    "# Sign-up button to navigate to sign-up form\n",
    "signup_nav_button = widgets.Button(description=\"Sign Up\")\n",
    "\n",
    "def show_signup_form(event):\n",
    "    clear_output()\n",
    "    display(signup_form)\n",
    "\n",
    "signup_nav_button.on_click(show_signup_form)\n",
    "\n",
    "login_form = widgets.VBox([login_username, login_password, login_button, login_message, signup_nav_button])\n",
    "\n",
    "# Logout button\n",
    "logout_button = widgets.Button(description=\"Logout\")\n",
    "\n",
    "def handle_logout(event):\n",
    "    clear_output()\n",
    "    display(login_form)\n",
    "\n",
    "logout_button.on_click(handle_logout)\n",
    "\n",
    "# Function to display the dashboard based on user role\n",
    "def display_dashboard(role):\n",
    "    clear_output()\n",
    "    if role == 'admin':\n",
    "        display(admin_dashboard)\n",
    "    else:\n",
    "        display(user_dashboard)\n",
    "\n",
    "\n",
    "# Function to run the dashboard (existing dashboard functionality)\n",
    "def run_dashboard(button=None):\n",
    "    import requests\n",
    "    import pandas as pd\n",
    "    import geopandas as gpd\n",
    "    import folium\n",
    "    from branca.colormap import linear\n",
    "    from ipywidgets import interact, Dropdown, Button, Output\n",
    "    from IPython.display import FileLink, display\n",
    "\n",
    "    # Load translation file and create a dictionary for header translation\n",
    "    translation_df = pd.read_csv('Metadata_PIR_translation.csv')\n",
    "    header_translation = dict(zip(translation_df['VARIABILE_INDICATORE'], translation_df['DEFINITIONS']))\n",
    "\n",
    "    # Dropdown widget for selecting administrative level\n",
    "    level_dropdown = Dropdown(\n",
    "        options=['province', 'region', 'municipality'],\n",
    "        value='province',\n",
    "        description='Level:',\n",
    "    )\n",
    "\n",
    "    # Output widget for displaying map\n",
    "    map_output = Output()\n",
    "    plot_output = Output()\n",
    "\n",
    "    # Function to update map and specific selection dropdown based on selected level\n",
    "    def update_specific_dropdown(level):\n",
    "        df = fetch_data(level)\n",
    "        if level == 'province':\n",
    "            options = df['provincia'].unique()\n",
    "        elif level == 'region':\n",
    "            options = df['regione'].unique()\n",
    "        elif level == 'municipality':\n",
    "            options = df['comune'].unique()\n",
    "        \n",
    "        specific_dropdown.options = options\n",
    "        # Update the map with the entire level data\n",
    "        with map_output:\n",
    "            map_output.clear_output()\n",
    "            m, map_filename = create_map(level)\n",
    "            display(m)\n",
    "\n",
    "    # Dropdown widget for selecting specific region, province, or municipality\n",
    "    specific_dropdown = Dropdown(\n",
    "        options=[],\n",
    "        description='Specific:',\n",
    "    )\n",
    "\n",
    "    # Dropdown for selecting file format\n",
    "    format_dropdown = Dropdown(\n",
    "        options=['xlsx', 'csv'],\n",
    "        value='xlsx',\n",
    "        description='Format:',\n",
    "    )\n",
    "\n",
    "    # Button for generating report\n",
    "    report_button = Button(description='Generate Report')\n",
    "\n",
    "    # Function to handle report generation\n",
    "    def handle_report_generation(b):\n",
    "        filename = generate_report(level_dropdown.value, specific_dropdown.value, format_dropdown.value)\n",
    "        with report_output:\n",
    "            report_output.clear_output()\n",
    "            display(FileLink(filename))\n",
    "\n",
    "    report_button.on_click(handle_report_generation)\n",
    "\n",
    "    # Output widget for displaying report generation message\n",
    "    report_output = Output()\n",
    "\n",
    "    # Function to update map based on selected level and specific selection\n",
    "    def update_map(level, specific):\n",
    "        with map_output:\n",
    "            map_output.clear_output()\n",
    "            m, map_filename = create_map(level, specific)\n",
    "            display(m)\n",
    "        with plot_output:\n",
    "            plot_output.clear_output()\n",
    "            create_population_buildings_risk_plot(level, specific)\n",
    "\n",
    "    # Update specific dropdown when level changes\n",
    "    level_dropdown.observe(lambda change: update_specific_dropdown(level_dropdown.value), names='value')\n",
    "\n",
    "    # Update map when specific selection changes\n",
    "    specific_dropdown.observe(lambda change: update_map(level_dropdown.value, specific_dropdown.value), names='value')\n",
    "\n",
    "    # Display widgets and output\n",
    "    display(level_dropdown, specific_dropdown, format_dropdown, report_button, report_output, map_output, plot_output)\n",
    "\n",
    "    # Initial update of specific dropdown and map\n",
    "    update_specific_dropdown(level_dropdown.value)\n",
    "\n",
    "# Admin and User Dashboards\n",
    "update_database_button = widgets.Button(description=\"Update Database\")\n",
    "view_dashboard_button_admin = widgets.Button(description=\"View Dashboard\")\n",
    "\n",
    "def update_database(button):\n",
    "    with output:\n",
    "        output.clear_output()\n",
    "        try:\n",
    "            exec(open(\"fetch_db_final.py\").read())\n",
    "            print(\"Database updated successfully!\")\n",
    "        except Exception as e:\n",
    "            print(f\"Error updating database: {e}\")\n",
    "\n",
    "update_database_button.on_click(update_database)\n",
    "view_dashboard_button_admin.on_click(run_dashboard)\n",
    "\n",
    "admin_dashboard = widgets.VBox([\n",
    "    widgets.Label(\"Admin Dashboard: You can update the database here.\"),\n",
    "    update_database_button,\n",
    "    view_dashboard_button_admin,\n",
    "    logout_button,\n",
    "    output\n",
    "])\n",
    "\n",
    "view_dashboard_button_user = widgets.Button(description=\"View Dashboard\")\n",
    "view_dashboard_button_user.on_click(run_dashboard)\n",
    "\n",
    "user_dashboard = widgets.VBox([\n",
    "    widgets.Label(\"User Dashboard: You can view the dashboard here.\"),\n",
    "    view_dashboard_button_user,\n",
    "    logout_button\n",
    "])\n",
    "\n",
    "# Display initial login form\n",
    "display(login_form)\n",
    "\n",
    "\n",
    "\n",
    "\n",
    "    \n"
   ]
  },
  {
   "cell_type": "code",
   "execution_count": null,
   "metadata": {},
   "outputs": [],
   "source": []
  }
 ],
 "metadata": {
  "kernelspec": {
   "display_name": "Python 3 (ipykernel)",
   "language": "python",
   "name": "python3"
  },
  "language_info": {
   "codemirror_mode": {
    "name": "ipython",
    "version": 3
   },
   "file_extension": ".py",
   "mimetype": "text/x-python",
   "name": "python",
   "nbconvert_exporter": "python",
   "pygments_lexer": "ipython3",
   "version": "3.12.2"
  }
 },
 "nbformat": 4,
 "nbformat_minor": 2
}
