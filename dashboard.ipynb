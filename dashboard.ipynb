{
 "cells": [
  {
   "cell_type": "code",
   "execution_count": null,
   "metadata": {},
   "outputs": [
    {
     "data": {
      "application/vnd.jupyter.widget-view+json": {
       "model_id": "5140641d21e145e7853136d6009f0d3c",
       "version_major": 2,
       "version_minor": 0
      },
      "text/plain": [
       "VBox(children=(Label(value='Admin Dashboard: You can update the database here.'), Button(description='Update D…"
      ]
     },
     "metadata": {},
     "output_type": "display_data"
    },
    {
     "data": {
      "application/vnd.jupyter.widget-view+json": {
       "model_id": "bb8af1ea3af4486cb5c4ba7206c2cb44",
       "version_major": 2,
       "version_minor": 0
      },
      "text/plain": [
       "Dropdown(description='Level:', options=('province', 'region', 'municipality'), value='province')"
      ]
     },
     "metadata": {},
     "output_type": "display_data"
    },
    {
     "data": {
      "application/vnd.jupyter.widget-view+json": {
       "model_id": "242c79927d6d434688d3d60acb857218",
       "version_major": 2,
       "version_minor": 0
      },
      "text/plain": [
       "Dropdown(description='Specific:', options=(), value=None)"
      ]
     },
     "metadata": {},
     "output_type": "display_data"
    },
    {
     "data": {
      "application/vnd.jupyter.widget-view+json": {
       "model_id": "51e9185e645c43f79bac4f28858077b3",
       "version_major": 2,
       "version_minor": 0
      },
      "text/plain": [
       "Dropdown(description='Format:', options=('xlsx', 'csv'), value='xlsx')"
      ]
     },
     "metadata": {},
     "output_type": "display_data"
    },
    {
     "data": {
      "application/vnd.jupyter.widget-view+json": {
       "model_id": "0f5fcdaea8ac4d7499993570e4e18285",
       "version_major": 2,
       "version_minor": 0
      },
      "text/plain": [
       "Button(description='Generate Report', style=ButtonStyle())"
      ]
     },
     "metadata": {},
     "output_type": "display_data"
    },
    {
     "data": {
      "application/vnd.jupyter.widget-view+json": {
       "model_id": "179e2bcf9fde4086b4f9359751097e2d",
       "version_major": 2,
       "version_minor": 0
      },
      "text/plain": [
       "Output()"
      ]
     },
     "metadata": {},
     "output_type": "display_data"
    },
    {
     "data": {
      "application/vnd.jupyter.widget-view+json": {
       "model_id": "b93dd5f0108e407aac4b0dd410b3ff3e",
       "version_major": 2,
       "version_minor": 0
      },
      "text/plain": [
       "Output()"
      ]
     },
     "metadata": {},
     "output_type": "display_data"
    },
    {
     "data": {
      "application/vnd.jupyter.widget-view+json": {
       "model_id": "dd9fd3887dbc4da38b11c4dd745b8e06",
       "version_major": 2,
       "version_minor": 0
      },
      "text/plain": [
       "Output()"
      ]
     },
     "metadata": {},
     "output_type": "display_data"
    }
   ],
   "source": [
    "import ipywidgets as widgets\n",
    "from IPython.display import display, clear_output, FileLink\n",
    "from functions import (\n",
    "    create_users_table, signup_user, login_user, create_map, generate_report, fetch_data,add_admin_user,create_population_buildings_risk_plot,fetch_and_insert_data\n",
    ")\n",
    "\n",
    "import pandas as pd\n",
    "# Initialize database and create users table and admin user inserted\n",
    "create_users_table()\n",
    "add_admin_user()\n",
    "\n",
    "# Output widget\n",
    "output = widgets.Output()\n",
    "\n",
    "# Login form\n",
    "login_username = widgets.Text(description=\"Username:\")\n",
    "login_password = widgets.Password(description=\"Password:\")\n",
    "login_button = widgets.Button(description=\"Login\")\n",
    "login_message = widgets.Label()\n",
    "\n",
    "# Sign-up form\n",
    "signup_username = widgets.Text(description=\"Username:\")\n",
    "signup_password = widgets.Password(description=\"Password:\")\n",
    "signup_button = widgets.Button(description=\"Sign Up\")\n",
    "signup_message = widgets.Label()\n",
    "\n",
    "def handle_signup(event):\n",
    "    result = signup_user(signup_username.value, signup_password.value)\n",
    "    signup_message.value = result\n",
    "    if result == \"User signed up successfully!\":\n",
    "        role = login_user(signup_username.value, signup_password.value)\n",
    "        if role:\n",
    "            clear_output()\n",
    "            display_dashboard(role)\n",
    "        else:\n",
    "            signup_message.value = \"Error in automatic login after signup!\"\n",
    "\n",
    "signup_button.on_click(handle_signup)\n",
    "signup_form = widgets.VBox([signup_username, signup_password, signup_button, signup_message])\n",
    "\n",
    "def handle_login(event):\n",
    "    role = login_user(login_username.value, login_password.value)\n",
    "    if role:\n",
    "        clear_output()\n",
    "        display_dashboard(role)\n",
    "    else:\n",
    "        login_message.value = \"Invalid username or password!\"\n",
    "\n",
    "login_button.on_click(handle_login)\n",
    "\n",
    "# Sign-up button to navigate to sign-up form\n",
    "signup_nav_button = widgets.Button(description=\"Sign Up\")\n",
    "\n",
    "def show_signup_form(event):\n",
    "    clear_output()\n",
    "    display(signup_form)\n",
    "\n",
    "signup_nav_button.on_click(show_signup_form)\n",
    "\n",
    "login_form = widgets.VBox([login_username, login_password, login_button, login_message, signup_nav_button])\n",
    "\n",
    "# Logout button\n",
    "logout_button = widgets.Button(description=\"Logout\")\n",
    "\n",
    "def handle_logout(event):\n",
    "    clear_output()\n",
    "    display(login_form)\n",
    "\n",
    "logout_button.on_click(handle_logout)\n",
    "\n",
    "# Function to display the dashboard based on user role\n",
    "def display_dashboard(role):\n",
    "    clear_output()\n",
    "    if role == 'admin':\n",
    "        display(admin_dashboard)\n",
    "    else:\n",
    "        display(user_dashboard)\n",
    "\n",
    "\n",
    "# Function to run the dashboard (existing dashboard functionality)\n",
    "def run_dashboard(button=None):\n",
    "    import requests\n",
    "    import pandas as pd\n",
    "    import geopandas as gpd\n",
    "    import folium\n",
    "    from branca.colormap import linear\n",
    "    from ipywidgets import interact, Dropdown, Button, Output\n",
    "    from IPython.display import FileLink, display\n",
    "\n",
    "    # Load translation file and create a dictionary for header translation\n",
    "    translation_df = pd.read_csv('Metadata_PIR_translation.csv')\n",
    "    header_translation = dict(zip(translation_df['VARIABILE_INDICATORE'], translation_df['DEFINITIONS']))\n",
    "\n",
    "    # Dropdown widget for selecting administrative level\n",
    "    level_dropdown = Dropdown(\n",
    "        options=['province', 'region', 'municipality'],\n",
    "        value='province',\n",
    "        description='Level:',\n",
    "    )\n",
    "\n",
    "    # Output widget for displaying map\n",
    "    map_output = Output()\n",
    "    plot_output = Output()\n",
    "\n",
    "    # Function to update map and specific selection dropdown based on selected level\n",
    "    def update_specific_dropdown(level):\n",
    "        df = fetch_data(level)\n",
    "        if level == 'province':\n",
    "            options = df['provincia'].unique()\n",
    "        elif level == 'region':\n",
    "            options = df['regione'].unique()\n",
    "        elif level == 'municipality':\n",
    "            options = df['comune'].unique()\n",
    "        \n",
    "        specific_dropdown.options = options\n",
    "        # Update the map with the entire level data\n",
    "        with map_output:\n",
    "            map_output.clear_output()\n",
    "            m, map_filename = create_map(level)\n",
    "            display(m)\n",
    "\n",
    "    # Dropdown widget for selecting specific region, province, or municipality\n",
    "    specific_dropdown = Dropdown(\n",
    "        options=[],\n",
    "        description='Specific:',\n",
    "    )\n",
    "\n",
    "    # Dropdown for selecting file format\n",
    "    format_dropdown = Dropdown(\n",
    "        options=['xlsx', 'csv'],\n",
    "        value='xlsx',\n",
    "        description='Format:',\n",
    "    )\n",
    "\n",
    "    # Button for generating report\n",
    "    report_button = Button(description='Generate Report')\n",
    "\n",
    "    # Function to handle report generation\n",
    "    def handle_report_generation(b):\n",
    "        filename = generate_report(level_dropdown.value, specific_dropdown.value, format_dropdown.value)\n",
    "        with report_output:\n",
    "            report_output.clear_output()\n",
    "            display(FileLink(filename))\n",
    "\n",
    "    report_button.on_click(handle_report_generation)\n",
    "\n",
    "    # Output widget for displaying report generation message\n",
    "    report_output = Output()\n",
    "\n",
    "    # Function to update map based on selected level and specific selection\n",
    "    def update_map(level, specific):\n",
    "        with map_output:\n",
    "            map_output.clear_output()\n",
    "            m, map_filename = create_map(level, specific)\n",
    "            display(m)\n",
    "        with plot_output:\n",
    "            plot_output.clear_output()\n",
    "            create_population_buildings_risk_plot(level, specific)\n",
    "\n",
    "    # Update specific dropdown when level changes\n",
    "    level_dropdown.observe(lambda change: update_specific_dropdown(level_dropdown.value), names='value')\n",
    "\n",
    "    # Update map when specific selection changes\n",
    "    specific_dropdown.observe(lambda change: update_map(level_dropdown.value, specific_dropdown.value), names='value')\n",
    "\n",
    "    # Display widgets and output\n",
    "    display(level_dropdown, specific_dropdown, format_dropdown, report_button, report_output, map_output, plot_output)\n",
    "\n",
    "    # Initial update of specific dropdown and map\n",
    "    update_specific_dropdown(level_dropdown.value)\n",
    "\n",
    "# Admin and User Dashboards\n",
    "update_database_button = widgets.Button(description=\"Update Database\")\n",
    "view_dashboard_button_admin = widgets.Button(description=\"View Dashboard\")\n",
    "\n",
    "def update_database(button):\n",
    "    with output:\n",
    "        output.clear_output()\n",
    "        try:\n",
    "            exec(open(\"fetch_db_final.py\").read())\n",
    "            print(\"Database updated successfully!\")\n",
    "        except Exception as e:\n",
    "            print(f\"Error updating database: {e}\")\n",
    "\n",
    "update_database_button.on_click(update_database)\n",
    "view_dashboard_button_admin.on_click(run_dashboard)\n",
    "\n",
    "admin_dashboard = widgets.VBox([\n",
    "    widgets.Label(\"Admin Dashboard: You can update the database here.\"),\n",
    "    update_database_button,\n",
    "    view_dashboard_button_admin,\n",
    "    logout_button,\n",
    "    output\n",
    "])\n",
    "\n",
    "view_dashboard_button_user = widgets.Button(description=\"View Dashboard\")\n",
    "view_dashboard_button_user.on_click(run_dashboard)\n",
    "\n",
    "user_dashboard = widgets.VBox([\n",
    "    widgets.Label(\"User Dashboard: You can view the dashboard here.\"),\n",
    "    view_dashboard_button_user,\n",
    "    logout_button\n",
    "])\n",
    "\n",
    "# Display initial login form\n",
    "display(login_form)\n",
    "\n",
    "\n",
    "\n",
    "\n",
    "    \n"
   ]
  },
  {
   "cell_type": "code",
   "execution_count": null,
   "metadata": {},
   "outputs": [],
   "source": []
  }
 ],
 "metadata": {
  "kernelspec": {
   "display_name": "Python 3 (ipykernel)",
   "language": "python",
   "name": "python3"
  },
  "language_info": {
   "codemirror_mode": {
    "name": "ipython",
    "version": 3
   },
   "file_extension": ".py",
   "mimetype": "text/x-python",
   "name": "python",
   "nbconvert_exporter": "python",
   "pygments_lexer": "ipython3",
   "version": "3.12.2"
  }
 },
 "nbformat": 4,
 "nbformat_minor": 2
}
